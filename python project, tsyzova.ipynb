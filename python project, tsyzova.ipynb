{
 "cells": [
  {
   "cell_type": "markdown",
   "id": "65e7e4b6",
   "metadata": {},
   "source": [
    "# Phonetics of additive particle in Chuvash\n",
    "\n",
    "The aim of the project is to find out whether Chuvash particle *da*, which is considered clitic, is realized differently from *-da* that is a word ending.\n",
    "\n",
    "As a data, I had speech recordings of 4 Chuvash speakers (not much, but not bad for starters). Their assignment was to read out loud 35-40 sentences, each of them had either a *-da*-ending word or a *da* as a particle. Each sentence was to be read 3 times, so there are 420 utterances of target phonetic words in total. Besides that, the additive particle has different meanings, and each meaning was marked additionally, that is why there are 4 groups of words in the data: no-partical words and 3 different meanings for *da* (in case they are also realized differently).\n",
    "\n",
    "Since, it is not, in fact, clear what kind of stress is inherent in Chuvash (if any -- it is an open question), I decided to compare two simple parameters: vowel duration and vowel height of ultimate and penultimate vowels, both variables are numeric (for height, F1 values were taken). Only the last two vowels are taken into account, because traditionally the last vowel is considered stressed -- and it will be the basis of further comarison.\n",
    "\n",
    "All the data were annotated manually in PRAAT, and then converted to the csv-file below by means of PRAAT script."
   ]
  },
  {
   "cell_type": "code",
   "execution_count": 3,
   "id": "fb46873f",
   "metadata": {},
   "outputs": [],
   "source": [
    "import pandas as pd"
   ]
  },
  {
   "cell_type": "code",
   "execution_count": 4,
   "id": "a396987e",
   "metadata": {},
   "outputs": [],
   "source": [
    "import numpy as np\n",
    "import matplotlib.pyplot as plt\n",
    "import seaborn as sns"
   ]
  },
  {
   "cell_type": "code",
   "execution_count": 5,
   "id": "251d24be",
   "metadata": {},
   "outputs": [],
   "source": [
    "df = pd.read_csv('results_fin_py_project.csv')"
   ]
  },
  {
   "cell_type": "code",
   "execution_count": 20,
   "id": "7f732bdf",
   "metadata": {},
   "outputs": [
    {
     "data": {
      "text/html": [
       "<div>\n",
       "<style scoped>\n",
       "    .dataframe tbody tr th:only-of-type {\n",
       "        vertical-align: middle;\n",
       "    }\n",
       "\n",
       "    .dataframe tbody tr th {\n",
       "        vertical-align: top;\n",
       "    }\n",
       "\n",
       "    .dataframe thead th {\n",
       "        text-align: right;\n",
       "    }\n",
       "</style>\n",
       "<table border=\"1\" class=\"dataframe\">\n",
       "  <thead>\n",
       "    <tr style=\"text-align: right;\">\n",
       "      <th></th>\n",
       "      <th>word</th>\n",
       "      <th>group</th>\n",
       "      <th>F1_previous</th>\n",
       "      <th>dur_previous</th>\n",
       "      <th>F1_last</th>\n",
       "      <th>dur_last</th>\n",
       "      <th>speaker</th>\n",
       "      <th>rel_dur_prcnt</th>\n",
       "      <th>rel_F1_prcnt</th>\n",
       "    </tr>\n",
       "  </thead>\n",
       "  <tbody>\n",
       "    <tr>\n",
       "      <th>0</th>\n",
       "      <td>??bada</td>\n",
       "      <td>1</td>\n",
       "      <td>750</td>\n",
       "      <td>0.104220</td>\n",
       "      <td>720</td>\n",
       "      <td>0.112862</td>\n",
       "      <td>PorPorf</td>\n",
       "      <td>92.342713</td>\n",
       "      <td>104.166667</td>\n",
       "    </tr>\n",
       "    <tr>\n",
       "      <th>1</th>\n",
       "      <td>??bada</td>\n",
       "      <td>1</td>\n",
       "      <td>750</td>\n",
       "      <td>0.094387</td>\n",
       "      <td>630</td>\n",
       "      <td>0.082574</td>\n",
       "      <td>PorPorf</td>\n",
       "      <td>114.306907</td>\n",
       "      <td>119.047619</td>\n",
       "    </tr>\n",
       "    <tr>\n",
       "      <th>2</th>\n",
       "      <td>??bada</td>\n",
       "      <td>1</td>\n",
       "      <td>660</td>\n",
       "      <td>0.076714</td>\n",
       "      <td>610</td>\n",
       "      <td>0.074427</td>\n",
       "      <td>PorPorf</td>\n",
       "      <td>103.073097</td>\n",
       "      <td>108.196721</td>\n",
       "    </tr>\n",
       "    <tr>\n",
       "      <th>3</th>\n",
       "      <td>??bada</td>\n",
       "      <td>1</td>\n",
       "      <td>640</td>\n",
       "      <td>0.100435</td>\n",
       "      <td>670</td>\n",
       "      <td>0.099800</td>\n",
       "      <td>PorPorf</td>\n",
       "      <td>100.636325</td>\n",
       "      <td>95.522388</td>\n",
       "    </tr>\n",
       "    <tr>\n",
       "      <th>4</th>\n",
       "      <td>??bada</td>\n",
       "      <td>1</td>\n",
       "      <td>750</td>\n",
       "      <td>0.088695</td>\n",
       "      <td>730</td>\n",
       "      <td>0.087200</td>\n",
       "      <td>PorPorf</td>\n",
       "      <td>101.714101</td>\n",
       "      <td>102.739726</td>\n",
       "    </tr>\n",
       "    <tr>\n",
       "      <th>...</th>\n",
       "      <td>...</td>\n",
       "      <td>...</td>\n",
       "      <td>...</td>\n",
       "      <td>...</td>\n",
       "      <td>...</td>\n",
       "      <td>...</td>\n",
       "      <td>...</td>\n",
       "      <td>...</td>\n",
       "      <td>...</td>\n",
       "    </tr>\n",
       "    <tr>\n",
       "      <th>416</th>\n",
       "      <td>xəda=da</td>\n",
       "      <td>4</td>\n",
       "      <td>669</td>\n",
       "      <td>0.113840</td>\n",
       "      <td>590</td>\n",
       "      <td>0.080136</td>\n",
       "      <td>RozNik</td>\n",
       "      <td>142.058440</td>\n",
       "      <td>113.389831</td>\n",
       "    </tr>\n",
       "    <tr>\n",
       "      <th>417</th>\n",
       "      <td>xəda=da</td>\n",
       "      <td>4</td>\n",
       "      <td>638</td>\n",
       "      <td>0.117374</td>\n",
       "      <td>633</td>\n",
       "      <td>0.072174</td>\n",
       "      <td>RozNik</td>\n",
       "      <td>162.627028</td>\n",
       "      <td>100.789889</td>\n",
       "    </tr>\n",
       "    <tr>\n",
       "      <th>418</th>\n",
       "      <td>ʨosta=da</td>\n",
       "      <td>4</td>\n",
       "      <td>648</td>\n",
       "      <td>0.077659</td>\n",
       "      <td>607</td>\n",
       "      <td>0.070655</td>\n",
       "      <td>RozNik</td>\n",
       "      <td>109.913240</td>\n",
       "      <td>106.754530</td>\n",
       "    </tr>\n",
       "    <tr>\n",
       "      <th>419</th>\n",
       "      <td>ʨosta=da</td>\n",
       "      <td>4</td>\n",
       "      <td>613</td>\n",
       "      <td>0.074828</td>\n",
       "      <td>560</td>\n",
       "      <td>0.080782</td>\n",
       "      <td>RozNik</td>\n",
       "      <td>92.629067</td>\n",
       "      <td>109.464286</td>\n",
       "    </tr>\n",
       "    <tr>\n",
       "      <th>420</th>\n",
       "      <td>ʨosta=da</td>\n",
       "      <td>4</td>\n",
       "      <td>652</td>\n",
       "      <td>0.116475</td>\n",
       "      <td>587</td>\n",
       "      <td>0.050983</td>\n",
       "      <td>RozNik</td>\n",
       "      <td>228.459862</td>\n",
       "      <td>111.073254</td>\n",
       "    </tr>\n",
       "  </tbody>\n",
       "</table>\n",
       "<p>421 rows × 9 columns</p>\n",
       "</div>"
      ],
      "text/plain": [
       "         word  group  F1_previous  dur_previous  F1_last  dur_last  speaker  \\\n",
       "0      ??bada      1          750      0.104220      720  0.112862  PorPorf   \n",
       "1      ??bada      1          750      0.094387      630  0.082574  PorPorf   \n",
       "2      ??bada      1          660      0.076714      610  0.074427  PorPorf   \n",
       "3      ??bada      1          640      0.100435      670  0.099800  PorPorf   \n",
       "4      ??bada      1          750      0.088695      730  0.087200  PorPorf   \n",
       "..        ...    ...          ...           ...      ...       ...      ...   \n",
       "416   xəda=da      4          669      0.113840      590  0.080136   RozNik   \n",
       "417   xəda=da      4          638      0.117374      633  0.072174   RozNik   \n",
       "418  ʨosta=da      4          648      0.077659      607  0.070655   RozNik   \n",
       "419  ʨosta=da      4          613      0.074828      560  0.080782   RozNik   \n",
       "420  ʨosta=da      4          652      0.116475      587  0.050983   RozNik   \n",
       "\n",
       "     rel_dur_prcnt  rel_F1_prcnt  \n",
       "0        92.342713    104.166667  \n",
       "1       114.306907    119.047619  \n",
       "2       103.073097    108.196721  \n",
       "3       100.636325     95.522388  \n",
       "4       101.714101    102.739726  \n",
       "..             ...           ...  \n",
       "416     142.058440    113.389831  \n",
       "417     162.627028    100.789889  \n",
       "418     109.913240    106.754530  \n",
       "419      92.629067    109.464286  \n",
       "420     228.459862    111.073254  \n",
       "\n",
       "[421 rows x 9 columns]"
      ]
     },
     "execution_count": 20,
     "metadata": {},
     "output_type": "execute_result"
    }
   ],
   "source": [
    "df"
   ]
  },
  {
   "cell_type": "markdown",
   "id": "86dd1c2d",
   "metadata": {},
   "source": [
    "As was already said, the last vowel (whether it is a part of the word itself or a particle attached to it) is considered the basis, and the last two columns are relative duration and height of penultimate vowels respectively (in percent; i.e. *penultimate vowel duration/ultimate vowel duration* and *penultimate vowel height/ultimate vowel height*).\n",
    "\n",
    "Let's take a look at whether there is any difference between vowel duration."
   ]
  },
  {
   "cell_type": "code",
   "execution_count": 7,
   "id": "5983c863",
   "metadata": {},
   "outputs": [],
   "source": [
    "%matplotlib inline"
   ]
  },
  {
   "cell_type": "code",
   "execution_count": 8,
   "id": "f37573d9",
   "metadata": {},
   "outputs": [
    {
     "data": {
      "image/png": "[encoded data removed]",
      "text/plain": [
       "<Figure size 720x432 with 1 Axes>"
      ]
     },
     "metadata": {
      "needs_background": "light"
     },
     "output_type": "display_data"
    }
   ],
   "source": [
    "plt.figure(figsize=(10, 6))\n",
    "sns.boxplot(x=\"group\", y=\"rel_dur_prcnt\", data=df)\n",
    "plt.ylim((0, 250))\n",
    "plt.title('Variation in duration by particle meaning')\n",
    "plt.ylabel('part_meaning')\n",
    "plt.xlabel('relative duration');"
   ]
  },
  {
   "cell_type": "markdown",
   "id": "7101fbe0",
   "metadata": {},
   "source": [
    "Here, we can see that the 1st group (without a particle) differs from the other three: the last two vowels there do not differ as much as in 'particle' words -- the latter ones tend to have shorter particle vowels (since the penultimate syllable is longer).\n",
    "\n",
    "Next, let's take a look at the vowel height (or vowel type/quality)."
   ]
  },
  {
   "cell_type": "code",
   "execution_count": 21,
   "id": "998d2559",
   "metadata": {},
   "outputs": [
    {
     "data": {
      "image/png": "[encoded data removed]",
      "text/plain": [
       "<Figure size 720x432 with 1 Axes>"
      ]
     },
     "metadata": {
      "needs_background": "light"
     },
     "output_type": "display_data"
    }
   ],
   "source": [
    "plt.figure(figsize=(10, 6))\n",
    "sns.boxplot(x=\"group\", y=\"rel_F1_prcnt\", data=df)\n",
    "plt.ylim((50, 150))\n",
    "plt.title('Variation in height by particle meaning')\n",
    "plt.ylabel('part_meaning')\n",
    "plt.xlabel('relative vowel height');"
   ]
  },
  {
   "cell_type": "markdown",
   "id": "a1c04721",
   "metadata": {},
   "source": [
    "Here, the situation is similar: the 1st group (no particle) differs from the other three again. In the 'partical' groups penultimate vowels are lower (more *a*-like) than the ones in *da*.\n",
    "\n",
    "Thus, we see that the vowel in the additive particle are usually shorter and more closed than the last vowels of the words to which the particle is attached.\n",
    "\n",
    "Let's run some tests to support this conclusion. Since the independent variable is categorical with more than two levels (four) and the dependent one is numeric in both cases (duration and height), ANOVA seems to be suitable.\n",
    "\n",
    "The first run is for duration:"
   ]
  },
  {
   "cell_type": "code",
   "execution_count": 10,
   "id": "b9cb30b2",
   "metadata": {},
   "outputs": [],
   "source": [
    "import statsmodels.api as sm\n",
    "from statsmodels.formula.api import ols"
   ]
  },
  {
   "cell_type": "code",
   "execution_count": 14,
   "id": "f5654109",
   "metadata": {},
   "outputs": [],
   "source": [
    "model = ols(\"rel_dur_prcnt ~ C(group)\", data = df).fit()"
   ]
  },
  {
   "cell_type": "code",
   "execution_count": 15,
   "id": "ed937d9f",
   "metadata": {},
   "outputs": [
    {
     "data": {
      "text/html": [
       "<div>\n",
       "<style scoped>\n",
       "    .dataframe tbody tr th:only-of-type {\n",
       "        vertical-align: middle;\n",
       "    }\n",
       "\n",
       "    .dataframe tbody tr th {\n",
       "        vertical-align: top;\n",
       "    }\n",
       "\n",
       "    .dataframe thead th {\n",
       "        text-align: right;\n",
       "    }\n",
       "</style>\n",
       "<table border=\"1\" class=\"dataframe\">\n",
       "  <thead>\n",
       "    <tr style=\"text-align: right;\">\n",
       "      <th></th>\n",
       "      <th>sum_sq</th>\n",
       "      <th>df</th>\n",
       "      <th>F</th>\n",
       "      <th>PR(&gt;F)</th>\n",
       "    </tr>\n",
       "  </thead>\n",
       "  <tbody>\n",
       "    <tr>\n",
       "      <th>C(group)</th>\n",
       "      <td>88573.359623</td>\n",
       "      <td>3.0</td>\n",
       "      <td>32.92684</td>\n",
       "      <td>4.051644e-19</td>\n",
       "    </tr>\n",
       "    <tr>\n",
       "      <th>Residual</th>\n",
       "      <td>373910.681019</td>\n",
       "      <td>417.0</td>\n",
       "      <td>NaN</td>\n",
       "      <td>NaN</td>\n",
       "    </tr>\n",
       "  </tbody>\n",
       "</table>\n",
       "</div>"
      ],
      "text/plain": [
       "                 sum_sq     df         F        PR(>F)\n",
       "C(group)   88573.359623    3.0  32.92684  4.051644e-19\n",
       "Residual  373910.681019  417.0       NaN           NaN"
      ]
     },
     "execution_count": 15,
     "metadata": {},
     "output_type": "execute_result"
    }
   ],
   "source": [
    "aov_table = sm.stats.anova_lm(model, typ=2)\n",
    "aov_table"
   ]
  },
  {
   "cell_type": "markdown",
   "id": "f1071a4b",
   "metadata": {},
   "source": [
    "Null hypothesis is that no group is different from another. Alternative one is that at least on of them is different. Here, we see that *p-value* (PR(>F)) is less than 0.05, which means we deny *H_0* when talking about vowel duration (the boxplot showed which group is different).\n",
    "\n",
    "Below, I run the test for vowel height:"
   ]
  },
  {
   "cell_type": "code",
   "execution_count": 18,
   "id": "4bc1880a",
   "metadata": {},
   "outputs": [],
   "source": [
    "model_F = ols(\"rel_F1_prcnt ~ C(group)\", data = df).fit()"
   ]
  },
  {
   "cell_type": "code",
   "execution_count": 19,
   "id": "3eb01a8e",
   "metadata": {},
   "outputs": [
    {
     "data": {
      "text/html": [
       "<div>\n",
       "<style scoped>\n",
       "    .dataframe tbody tr th:only-of-type {\n",
       "        vertical-align: middle;\n",
       "    }\n",
       "\n",
       "    .dataframe tbody tr th {\n",
       "        vertical-align: top;\n",
       "    }\n",
       "\n",
       "    .dataframe thead th {\n",
       "        text-align: right;\n",
       "    }\n",
       "</style>\n",
       "<table border=\"1\" class=\"dataframe\">\n",
       "  <thead>\n",
       "    <tr style=\"text-align: right;\">\n",
       "      <th></th>\n",
       "      <th>sum_sq</th>\n",
       "      <th>df</th>\n",
       "      <th>F</th>\n",
       "      <th>PR(&gt;F)</th>\n",
       "    </tr>\n",
       "  </thead>\n",
       "  <tbody>\n",
       "    <tr>\n",
       "      <th>C(group)</th>\n",
       "      <td>9664.314431</td>\n",
       "      <td>3.0</td>\n",
       "      <td>46.409126</td>\n",
       "      <td>6.735134e-26</td>\n",
       "    </tr>\n",
       "    <tr>\n",
       "      <th>Residual</th>\n",
       "      <td>28945.593923</td>\n",
       "      <td>417.0</td>\n",
       "      <td>NaN</td>\n",
       "      <td>NaN</td>\n",
       "    </tr>\n",
       "  </tbody>\n",
       "</table>\n",
       "</div>"
      ],
      "text/plain": [
       "                sum_sq     df          F        PR(>F)\n",
       "C(group)   9664.314431    3.0  46.409126  6.735134e-26\n",
       "Residual  28945.593923  417.0        NaN           NaN"
      ]
     },
     "execution_count": 19,
     "metadata": {},
     "output_type": "execute_result"
    }
   ],
   "source": [
    "aov_table_F = sm.stats.anova_lm(model_F, typ=2)\n",
    "aov_table_F"
   ]
  },
  {
   "cell_type": "markdown",
   "id": "b92213f5",
   "metadata": {},
   "source": [
    "Here, *H_0* can also be denied: one of the groups is statistically significantly different from the others.\n",
    "\n",
    "Thus, Chuvash additive particle *da* is indeed realized differently from *da*-ending words."
   ]
  }
 ],
 "metadata": {
  "kernelspec": {
   "display_name": "Python 3 (ipykernel)",
   "language": "python",
   "name": "python3"
  },
  "language_info": {
   "codemirror_mode": {
    "name": "ipython",
    "version": 3
   },
   "file_extension": ".py",
   "mimetype": "text/x-python",
   "name": "python",
   "nbconvert_exporter": "python",
   "pygments_lexer": "ipython3",
   "version": "3.9.7"
  }
 },
 "nbformat": 4,
 "nbformat_minor": 5
}
